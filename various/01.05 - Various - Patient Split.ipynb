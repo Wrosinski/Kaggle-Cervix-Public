{
 "cells": [
  {
   "cell_type": "code",
   "execution_count": null,
   "metadata": {},
   "outputs": [],
   "source": [
    "import numpy as np\n",
    "np.random.seed(1337)\n",
    "\n",
    "import glob\n",
    "import cv2\n",
    "import datetime\n",
    "import pandas as pd\n",
    "import time\n",
    "import scipy\n",
    "import warnings\n",
    "import shutil\n",
    "warnings.filterwarnings(\"ignore\")\n",
    "from scipy import misc\n",
    "import matplotlib.pyplot as plt\n",
    "%matplotlib inline\n",
    "\n",
    "from keras.utils.np_utils import to_categorical\n",
    "from sklearn.model_selection import train_test_split, KFold, StratifiedKFold\n",
    "\n",
    "from various_utils_general import *"
   ]
  },
  {
   "cell_type": "code",
   "execution_count": null,
   "metadata": {
    "collapsed": true
   },
   "outputs": [],
   "source": [
    "def split_proper_orig(test_size):\n",
    "    print('Validation set size:', test_size)\n",
    "    img_names = []\n",
    "    classes = []\n",
    "    for i in train_ids:\n",
    "        img_names.append(i[:6] + '/' + i.split('_')[1][2:])\n",
    "        classes.append(i[:6])\n",
    "    img_names = list(set(img_names))\n",
    "    classes = pd.Series(img_names).apply(lambda x: x[:6])\n",
    "    train_split, val_split = train_test_split(img_names, test_size = test_size, stratify = classes,\n",
    "                                              random_state = 111)\n",
    "    to_train = []\n",
    "    to_val = []\n",
    "    for i, img in enumerate(train_ids):\n",
    "        orig = img[:6] + '/' + img.split('_')[1][2:]\n",
    "        if orig in train_split:\n",
    "            to_train.append(img)\n",
    "        if orig in val_split:\n",
    "            to_val.append(img)\n",
    "    to_train = list(set(to_train))\n",
    "    to_val = list(set(to_val))\n",
    "    assert (len(list(set(to_train).intersection(set(to_val))))) == 0\n",
    "    print('Number of training set images: {}, validation set images: {}'.format(len(to_train), len(to_val)))\n",
    "    return to_train, to_val\n",
    "\n",
    "def save_splits(tr, val, dst, savename):\n",
    "    for i in range(len(tr)):\n",
    "        with open('{}/train_{}.txt'.format(dst, savename), 'a') as out:\n",
    "            out.write(tr[i] + '\\n')\n",
    "    for i in range(len(val)):\n",
    "        with open('{}/valid_{}.txt'.format(dst, savename), 'a') as out:\n",
    "            out.write(val[i] + '\\n')\n",
    "    return\n",
    "\n",
    "def split_dataset2(trfile, valfile, full_path, train_path, valid_path):\n",
    "    \n",
    "    flds = ['Type_1', 'Type_2', 'Type_3']\n",
    "    for i in flds:\n",
    "        if i not in os.listdir(train_path):\n",
    "            try:\n",
    "                os.mkdir(i)\n",
    "            except Exception as e:\n",
    "                print(e)\n",
    "        if i not in os.listdir(valid_path):\n",
    "            try:\n",
    "                os.mkdir(i)\n",
    "            except Exception as e:\n",
    "                print(e)\n",
    "            \n",
    "    for line in trfile:\n",
    "        cols = line.split('/')\n",
    "        src = \"{}/{}/{}\".format(full_path, cols[0], cols[1])\n",
    "        dst = \"{}/{}/{}\".format(train_path, cols[0], cols[1])\n",
    "        shutil.copy(src, dst)\n",
    "    \n",
    "    for line in valfile:\n",
    "        cols = line.split('/')\n",
    "        src = \"{}/{}/{}\".format(full_path, cols[0], cols[1])\n",
    "        dst = \"{}/{}/{}\".format(valid_path, cols[0], cols[1])\n",
    "        shutil.copy(src, dst)\n",
    "    return\n",
    "\n",
    "def split_proper_skf(train_ids, num_folds):\n",
    "    folds_train_imgs = []\n",
    "    folds_val_imgs = []\n",
    "    folds_train_inds = []\n",
    "    folds_val_inds = [] \n",
    "    img_names = []\n",
    "    \n",
    "    for i in train_ids:\n",
    "        img_names.append(i[:6] + '/' + i.split('_')[1][2:])\n",
    "    img_names = list(set(img_names))\n",
    "    img_names = np.array(img_names)\n",
    "    train_ids = np.array(train_ids)\n",
    "    classes = pd.Series(img_names).apply(lambda x: x[:6])\n",
    "    skf = StratifiedKFold(n_splits = num_folds, random_state = 111, shuffle = True)\n",
    "    print('Running {}-Fold data split'.format(num_folds))\n",
    "    fold_number = 1\n",
    "    for train_index, test_index in skf.split(img_names, classes):\n",
    "        print('Split dataset for fold:', fold_number)\n",
    "        train_split, val_split = img_names[train_index], img_names[test_index]\n",
    "        to_train = []\n",
    "        to_val = []\n",
    "        for i, img in enumerate(train_ids):\n",
    "            orig = img[:6] + '/' + img.split('_')[1][2:]\n",
    "            if orig in train_split:\n",
    "                to_train.append(img)\n",
    "            if orig in val_split:\n",
    "                to_val.append(img)\n",
    "        to_train = list(set(to_train))\n",
    "        to_val = list(set(to_val))\n",
    "        assert (len(list(set(to_train).intersection(set(to_val))))) == 0\n",
    "        print('Number of training set images: {}, validation set images: {}'.format(len(to_train), len(to_val)))\n",
    "        folds_train_imgs.append(to_train)\n",
    "        folds_val_imgs.append(to_val)\n",
    "        \n",
    "        inds_train = []\n",
    "        inds_val = []\n",
    "        for i, val in enumerate(train_ids):\n",
    "            for j in to_train:\n",
    "                if j in val:\n",
    "                    inds_train.append(i)\n",
    "        inds_val = list(set(range(len(train_ids))).difference(set(inds_train)))\n",
    "        folds_train_inds.append(inds_train)\n",
    "        folds_val_inds.append(inds_val)\n",
    "        fold_number += 1\n",
    "        \n",
    "    return folds_train_imgs, folds_val_imgs, folds_train_inds, folds_val_inds"
   ]
  },
  {
   "cell_type": "code",
   "execution_count": null,
   "metadata": {
    "collapsed": true
   },
   "outputs": [],
   "source": [
    "src = '/media/w/1c392724-ecf3-4615-8f3c-79368ec36380/DS Projects/Kaggle/Intel_Cervix/data/training_data/'\n",
    "save_dst = '/media/w/1c392724-ecf3-4615-8f3c-79368ec36380/DS Projects/Kaggle/Intel_Cervix/scripts/various/'\n",
    "\n",
    "full_train = src + 'train_crops_vgg_299_oversampled'\n",
    "train_path = src + 'train_set'\n",
    "val_path = src + 'valid_set'\n"
   ]
  },
  {
   "cell_type": "raw",
   "metadata": {
    "collapsed": true,
    "scrolled": true
   },
   "source": [
    "os.chdir(src)\n",
    "shutil.rmtree('train_set')\n",
    "shutil.rmtree('valid_set')\n",
    "os.makedirs('train_set')\n",
    "os.makedirs('valid_set')\n",
    "os.chdir('{}/train_set'.format(src))\n",
    "for cls in ['Type_1', 'Type_2', 'Type_3']: os.mkdir('../train_set/' + cls)\n",
    "for cls in ['Type_1', 'Type_2', 'Type_3']: os.mkdir('../valid_set/' + cls)"
   ]
  },
  {
   "cell_type": "code",
   "execution_count": null,
   "metadata": {
    "scrolled": true
   },
   "outputs": [],
   "source": [
    "X, y, train_ids = load_train(full_train)"
   ]
  },
  {
   "cell_type": "code",
   "execution_count": null,
   "metadata": {
    "scrolled": true
   },
   "outputs": [],
   "source": [
    "tr, val = split_proper_orig(0.15)\n",
    "#split_dataset2(tr, val, full_train, train_path, val_path)"
   ]
  },
  {
   "cell_type": "code",
   "execution_count": null,
   "metadata": {
    "scrolled": true
   },
   "outputs": [],
   "source": [
    "tr_imgs, val_imgs, tr_inds, val_inds = split_proper_skf(train_ids, 5)\n",
    "tr1 = pd.Series(tr_imgs[0]).apply(lambda x: x[:6])\n",
    "tr1.value_counts()"
   ]
  },
  {
   "cell_type": "code",
   "execution_count": null,
   "metadata": {
    "collapsed": true
   },
   "outputs": [],
   "source": [
    "v1 = pd.Series(val_imgs[0]).apply(lambda x: x[:6])\n",
    "v1.value_counts()"
   ]
  }
 ],
 "metadata": {
  "kernelspec": {
   "display_name": "Python 3",
   "language": "python",
   "name": "python3"
  },
  "language_info": {
   "codemirror_mode": {
    "name": "ipython",
    "version": 3
   },
   "file_extension": ".py",
   "mimetype": "text/x-python",
   "name": "python",
   "nbconvert_exporter": "python",
   "pygments_lexer": "ipython3",
   "version": "3.5.2"
  }
 },
 "nbformat": 4,
 "nbformat_minor": 2
}
