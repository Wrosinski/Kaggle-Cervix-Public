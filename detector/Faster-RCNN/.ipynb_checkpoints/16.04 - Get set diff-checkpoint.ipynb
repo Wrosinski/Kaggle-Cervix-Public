{
 "cells": [
  {
   "cell_type": "code",
   "execution_count": 1,
   "metadata": {
    "collapsed": true
   },
   "outputs": [],
   "source": [
    "import numpy as np\n",
    "import pandas as pd\n",
    "import os\n",
    "import glob\n",
    "import time\n",
    "import cv2\n",
    "\n",
    "from sklearn.preprocessing import LabelEncoder\n",
    "\n",
    "import matplotlib.pyplot as plt\n",
    "%matplotlib inline"
   ]
  },
  {
   "cell_type": "code",
   "execution_count": 7,
   "metadata": {
    "collapsed": true
   },
   "outputs": [],
   "source": [
    "label_path = '/media/w/1c392724-ecf3-4615-8f3c-79368ec36380/DS Projects/Kaggle/Intel_Cervix/data/annotations/Craig_annotations/'\n",
    "data_path = '/home/w/Development/darknet/cervix_yolo/train/'\n",
    "save_path = '/media/w/1c392724-ecf3-4615-8f3c-79368ec36380/DS Projects/Kaggle/Intel_Cervix/scripts/detector/YOLO/'\n",
    "\n",
    "labels = ['Type_1', 'Type_2', 'Type_3']\n",
    "\n",
    "label_files = [label_path + '{}.json'.format(labels[0]), label_path + '{}.json'.format(labels[1]),\n",
    "               label_path + '{}.json'.format(labels[2])]\n",
    "\n",
    "\n",
    "data_dirs = [data_path + '{}/'.format(labels[0]), data_path + '{}/'.format(labels[1]), \n",
    "             data_path + '{}/'.format(labels[2])]"
   ]
  },
  {
   "cell_type": "code",
   "execution_count": 12,
   "metadata": {
    "collapsed": true,
    "scrolled": true
   },
   "outputs": [],
   "source": [
    "def to_df():\n",
    "    \n",
    "    dfs = []\n",
    "    dfs_names = []\n",
    "    labels = ['Type_1', 'Type_2', 'Type_3']\n",
    "    for i in range(len(label_files)):\n",
    "        df = pd.read_json(label_files[i])\n",
    "        dfs.append(df)\n",
    "        dfs_names.append(labels[i])\n",
    "    \n",
    "    filenames = []\n",
    "    short_filenames = []\n",
    "    classes = []\n",
    "    shapes = []\n",
    "    x1 = []\n",
    "    x2 = []\n",
    "    y1 = []\n",
    "    y2 = []\n",
    "\n",
    "    for df, df_name in zip(dfs, dfs_names):\n",
    "        print('Length of df: ', len(df))\n",
    "        for file in range(len(df)):\n",
    "            df.iloc[file, :]['image_path'] = df.iloc[file, :]['image_path'].replace('//', '/')\n",
    "            img_path = data_path + '{}/'.format(df_name) + df.iloc[file, :]['image_path'].split('/')[-1]\n",
    "            if len(df.iloc[file, :]['rects']) == 0:\n",
    "                filenames.append(img_path)\n",
    "                short_filenames.append(df.iloc[file, :]['image_path'].split('/')[-2] + '/' + df.iloc[file, :]['image_path'].split('/')[-1])\n",
    "            else:\n",
    "                #print('Image: {} not found'.format(img_path))\n",
    "                continue\n",
    "    filenames = pd.DataFrame(filenames)\n",
    "    short_filenames = pd.DataFrame(short_filenames)\n",
    "    return filenames, short_filenames"
   ]
  },
  {
   "cell_type": "code",
   "execution_count": 13,
   "metadata": {},
   "outputs": [
    {
     "name": "stdout",
     "output_type": "stream",
     "text": [
      "Length of df:  251\n",
      "Length of df:  782\n",
      "Length of df:  451\n"
     ]
    }
   ],
   "source": [
    "f, sf = to_df()"
   ]
  },
  {
   "cell_type": "code",
   "execution_count": 14,
   "metadata": {},
   "outputs": [
    {
     "data": {
      "text/html": [
       "<div>\n",
       "<table border=\"1\" class=\"dataframe\">\n",
       "  <thead>\n",
       "    <tr style=\"text-align: right;\">\n",
       "      <th></th>\n",
       "      <th>0</th>\n",
       "    </tr>\n",
       "  </thead>\n",
       "  <tbody>\n",
       "    <tr>\n",
       "      <th>0</th>\n",
       "      <td>Type_1/298.jpg</td>\n",
       "    </tr>\n",
       "    <tr>\n",
       "      <th>1</th>\n",
       "      <td>Type_1/1014.jpg</td>\n",
       "    </tr>\n",
       "    <tr>\n",
       "      <th>2</th>\n",
       "      <td>Type_2/933.jpg</td>\n",
       "    </tr>\n",
       "    <tr>\n",
       "      <th>3</th>\n",
       "      <td>Type_2/1074.jpg</td>\n",
       "    </tr>\n",
       "    <tr>\n",
       "      <th>4</th>\n",
       "      <td>Type_3/69.jpg</td>\n",
       "    </tr>\n",
       "    <tr>\n",
       "      <th>5</th>\n",
       "      <td>Type_3/1375.jpg</td>\n",
       "    </tr>\n",
       "    <tr>\n",
       "      <th>6</th>\n",
       "      <td>Type_3/1191.jpg</td>\n",
       "    </tr>\n",
       "  </tbody>\n",
       "</table>\n",
       "</div>"
      ],
      "text/plain": [
       "                 0\n",
       "0   Type_1/298.jpg\n",
       "1  Type_1/1014.jpg\n",
       "2   Type_2/933.jpg\n",
       "3  Type_2/1074.jpg\n",
       "4    Type_3/69.jpg\n",
       "5  Type_3/1375.jpg\n",
       "6  Type_3/1191.jpg"
      ]
     },
     "execution_count": 14,
     "metadata": {},
     "output_type": "execute_result"
    }
   ],
   "source": [
    "sf"
   ]
  },
  {
   "cell_type": "code",
   "execution_count": null,
   "metadata": {
    "collapsed": true
   },
   "outputs": [],
   "source": []
  }
 ],
 "metadata": {
  "kernelspec": {
   "display_name": "Python 3",
   "language": "python",
   "name": "python3"
  },
  "language_info": {
   "codemirror_mode": {
    "name": "ipython",
    "version": 3
   },
   "file_extension": ".py",
   "mimetype": "text/x-python",
   "name": "python",
   "nbconvert_exporter": "python",
   "pygments_lexer": "ipython3",
   "version": "3.5.2"
  }
 },
 "nbformat": 4,
 "nbformat_minor": 2
}
