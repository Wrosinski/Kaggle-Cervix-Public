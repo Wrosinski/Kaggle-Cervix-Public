{
 "cells": [
  {
   "cell_type": "code",
   "execution_count": 1,
   "metadata": {
    "collapsed": true
   },
   "outputs": [],
   "source": [
    "import numpy as np\n",
    "import pandas as pd\n",
    "import os\n",
    "import glob\n",
    "import time\n",
    "import cv2\n",
    "\n",
    "from sklearn.preprocessing import LabelEncoder\n",
    "\n",
    "import matplotlib.pyplot as plt\n",
    "%matplotlib inline"
   ]
  },
  {
   "cell_type": "code",
   "execution_count": 2,
   "metadata": {
    "collapsed": true
   },
   "outputs": [],
   "source": [
    "label_path = '/media/w/1c392724-ecf3-4615-8f3c-79368ec36380/DS Projects/Kaggle/Intel_Cervix/data/annotations/Paul_annotations/'\n",
    "data_path = '/media/w/1c392724-ecf3-4615-8f3c-79368ec36380/DS Projects/Kaggle/Intel_Cervix/data/train/'\n",
    "save_path = '/media/w/1c392724-ecf3-4615-8f3c-79368ec36380/DS Projects/Kaggle/Intel_Cervix/scripts/detector/YOLO/'\n",
    "\n",
    "labels = ['Type_1', 'Type_2', 'Type_3']\n",
    "\n",
    "label_files = [label_path + '{}.tsv'.format(labels[0]), label_path + '{}.tsv'.format(labels[1]),\n",
    "               label_path + '{}.tsv'.format(labels[2])]\n",
    "\n",
    "\n",
    "data_dirs = [data_path + '{}/'.format(labels[0]), data_path + '{}/'.format(labels[1]), \n",
    "             data_path + '{}/'.format(labels[2])]"
   ]
  },
  {
   "cell_type": "code",
   "execution_count": 3,
   "metadata": {
    "collapsed": true,
    "scrolled": true
   },
   "outputs": [],
   "source": [
    "def to_df():\n",
    "    \n",
    "    dfs = []\n",
    "    dfs_names = []\n",
    "    labels = ['Type_1', 'Type_2', 'Type_3']\n",
    "    for i in range(len(label_files)):\n",
    "        df = pd.read_csv(label_files[i], sep = ' ', header = None)\n",
    "        dfs.append(df)\n",
    "        dfs_names.append(labels[i])\n",
    "    \n",
    "    filenames = []\n",
    "    short_filenames = []\n",
    "    classes = []\n",
    "    shapes = []\n",
    "    x1 = []\n",
    "    x2 = []\n",
    "    y1 = []\n",
    "    y2 = []\n",
    "\n",
    "    for df, df_name in zip(dfs, dfs_names):\n",
    "        print('Length of df: ', len(df))\n",
    "        for file in range(len(df)):\n",
    "            df.iloc[file, 0] = df.iloc[file, 0].replace('\\\\', '/')\n",
    "            img_path = data_path + df.iloc[file, 0]\n",
    "            img = cv2.imread(img_path)\n",
    "            if img is not None and df.iloc[file, 1] == 1:\n",
    "                filenames.append(img_path)\n",
    "                short_filenames.append(df.iloc[file, 0])\n",
    "                img_shape = img.shape\n",
    "                shapes.append(img_shape)\n",
    "                classes.append(df_name)\n",
    "                x1.append(df.iloc[file, 2])\n",
    "                y1.append(df.iloc[file, 3])\n",
    "                x2.append((df.iloc[file, 2] + df.iloc[file, 4]))\n",
    "                y2.append((df.iloc[file, 3] + df.iloc[file, 5]))\n",
    "            if img is not None and df.iloc[file, :][1] == 2:\n",
    "                continue\n",
    "                \"\"\"\n",
    "                for i in range(df.iloc[file, :][1]):\n",
    "                    filenames.append(img_path)\n",
    "                    short_filenames.append(df.iloc[file, :][0])\n",
    "                    img_shape = img.shape\n",
    "                    shapes.append(img_shape)\n",
    "                    classes.append(df_name)\n",
    "                    \n",
    "                x1.append(df.iloc[file, 2])\n",
    "                y1.append(df.iloc[file, 3])\n",
    "                x2.append((df.iloc[file, 2] + df.iloc[file, 4]))\n",
    "                y2.append((df.iloc[file, 3] + df.iloc[file, 5]))\n",
    "                                           \n",
    "                x1.append(df.iloc[file, 6])\n",
    "                y1.append(df.iloc[file, 7])\n",
    "                x2.append((df.iloc[file, 6] + df.iloc[file, 8]))\n",
    "                y2.append((df.iloc[file, 7] + df.iloc[file, 9]))\n",
    "                \"\"\"\n",
    "            if img is None:\n",
    "                print('Image: {} not found'.format(img_path))\n",
    "            if df.iloc[file, 1] == 0:\n",
    "                print('No annotations for image: {}'.format(img_path))\n",
    "                continue\n",
    "\n",
    "    print('Number of annotations: ', len(filenames), len(x1), len(y1), len(x2), len(y2))\n",
    "    filenames = pd.DataFrame(filenames)\n",
    "    short_filenames = pd.DataFrame(short_filenames)\n",
    "    classes = pd.DataFrame(classes)\n",
    "    x1 = pd.DataFrame(x1)\n",
    "    y1 = pd.DataFrame(y1)\n",
    "    x2 = pd.DataFrame(x2)\n",
    "    y2 = pd.DataFrame(y2)\n",
    "    shapes = pd.DataFrame(shapes)\n",
    "    shapes = shapes.iloc[:, :-1]\n",
    "\n",
    "    data = pd.concat([filenames, short_filenames, classes, x1, x2, y1, y2], axis = 1)\n",
    "    data.columns = ['filename', 'img_name', 'class', 'xmin', 'xmax', 'ymin', 'ymax']\n",
    "    shapes.columns = ['img_height', 'img_width']\n",
    "    shapes['filename'] = filenames\n",
    "    \n",
    "    data = data.drop_duplicates()\n",
    "    data.reset_index(inplace = True)\n",
    "    data.drop(['index'], axis = 1, inplace = True)\n",
    "    \n",
    "    shapes = shapes.drop_duplicates()\n",
    "    shapes.reset_index(inplace = True)\n",
    "    shapes.drop(['index'], axis = 1, inplace = True)\n",
    "    \n",
    "    short_filenames = short_filenames.drop_duplicates()\n",
    "    short_filenames.reset_index(inplace = True)\n",
    "    short_filenames.drop(['index'], axis = 1, inplace = True)\n",
    "    print('Shapes of final data: {}, {}'.format(data.shape, shapes.shape))\n",
    "    \n",
    "    return data, shapes, short_filenames\n",
    "\n",
    "\n",
    "def preprocess(data, drop = True):\n",
    "    data2 = data.copy()\n",
    "    data2['class_enc'] = LabelEncoder().fit_transform(data2['class'])\n",
    "    filenames = data2['filename']\n",
    "    if drop:\n",
    "        data2.drop(['class', 'filename'], axis = 1, inplace = True)\n",
    "        \n",
    "    cols = data2.columns.tolist()\n",
    "    print(cols)\n",
    "    cols = cols[-1:] + cols[:-1]\n",
    "    data2 = data2[cols] \n",
    "    print(cols)\n",
    "    return data2, filenames\n",
    "\n"
   ]
  },
  {
   "cell_type": "code",
   "execution_count": 4,
   "metadata": {
    "scrolled": true
   },
   "outputs": [
    {
     "name": "stdout",
     "output_type": "stream",
     "text": [
      "Length of df:  249\n",
      "Length of df:  772\n",
      "Length of df:  445\n",
      "Number of annotations:  1464 1464 1464 1464 1464\n",
      "Shapes of final data: (1464, 7), (1464, 3)\n",
      "['img_name', 'xmin', 'xmax', 'ymin', 'ymax', 'class_enc']\n",
      "['class_enc', 'img_name', 'xmin', 'xmax', 'ymin', 'ymax']\n"
     ]
    }
   ],
   "source": [
    "data, shapes, short_filenames = to_df()\n",
    "data2, filenames = preprocess(data)"
   ]
  },
  {
   "cell_type": "code",
   "execution_count": 9,
   "metadata": {},
   "outputs": [],
   "source": [
    "data_good = data.loc[:, ['filename', 'xmin', 'ymin', 'xmax', 'ymax', 'class']]\n",
    "data_good.to_csv('rcnn_input.txt', index = None, header = None, sep = ',')"
   ]
  },
  {
   "cell_type": "code",
   "execution_count": null,
   "metadata": {
    "collapsed": true
   },
   "outputs": [],
   "source": [
    "def print_crops(data, img_range, images_number, rect = False):\n",
    "    rands = np.random.randint(0, img_range, size = images_number)\n",
    "    for i in rands:\n",
    "        plt.figure()\n",
    "        print(data['filename'][i])\n",
    "        im1 = cv2.imread(data['filename'][i])\n",
    "        plt.figure(figsize=(16,10))\n",
    "        plt.imshow(im1)\n",
    "            \n",
    "        if rect:\n",
    "            plt.plot(data['xmin'][i], data['ymin'][i], 'or')\n",
    "            plt.plot(data['xmax'][i], data['ymax'][i], 'or')\n",
    "        else:\n",
    "            plt_rect = plt.Rectangle((data['xmin'][i], data['ymin'][i]), (data['xmax'][i] - data['xmin'][i]),\n",
    "                                     (data['ymax'][i] - data['ymin'][i]), color='black', fill=False, lw=3)\n",
    "            plt.gca().add_patch(plt_rect)\n",
    "                                                 \n",
    "    return\n",
    "\n",
    "print_crops(data, len(data), 4, True)"
   ]
  }
 ],
 "metadata": {
  "kernelspec": {
   "display_name": "Python 3",
   "language": "python",
   "name": "python3"
  },
  "language_info": {
   "codemirror_mode": {
    "name": "ipython",
    "version": 3
   },
   "file_extension": ".py",
   "mimetype": "text/x-python",
   "name": "python",
   "nbconvert_exporter": "python",
   "pygments_lexer": "ipython3",
   "version": "3.5.2"
  }
 },
 "nbformat": 4,
 "nbformat_minor": 2
}
