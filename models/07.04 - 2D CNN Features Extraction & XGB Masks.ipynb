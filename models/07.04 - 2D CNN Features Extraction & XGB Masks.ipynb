{
 "cells": [
  {
   "cell_type": "code",
   "execution_count": null,
   "metadata": {},
   "outputs": [],
   "source": [
    "import os\n",
    "os.environ[\"CUDA_DEVICE_ORDER\"]=\"PCI_BUS_ID\"\n",
    "os.environ[\"CUDA_VISIBLE_DEVICES\"]=\"1\"\n",
    "\n",
    "import tensorflow as tf\n",
    "from keras import backend as K\n",
    "K.set_image_dim_ordering('th') \n",
    "\n",
    "import numpy as np\n",
    "import pandas as pd\n",
    "import cv2\n",
    "import zarr\n",
    "import glob\n",
    "import time\n",
    "import matplotlib.pyplot as plt\n",
    "%matplotlib inline\n",
    "\n",
    "from keras.models import load_model, Model\n",
    "from keras.utils.np_utils import to_categorical\n",
    "\n",
    "from sklearn.metrics import log_loss\n",
    "from sklearn.cross_validation import train_test_split\n",
    "import xgboost as xgb"
   ]
  },
  {
   "cell_type": "code",
   "execution_count": null,
   "metadata": {
    "collapsed": true
   },
   "outputs": [],
   "source": [
    "zarr_dir = '/home/w/DS_Projects/Kaggle/DS Bowl 2017/input_data/stage1_zarr/DSBowl.zarr/'\n",
    "zarr_store = zarr.DirectoryStore(zarr_dir)\n",
    "zarr_load_group = zarr.hierarchy.open_group(store=zarr_store, mode='r')\n",
    "dsb_pats = os.listdir('/home/w/DS_Projects/Kaggle/DS Bowl 2017/input_data/stage1_zarr/DSBowl.zarr/lung_mask/')\n",
    "\n",
    "zarr_store = zarr.DirectoryStore('/home/w/DS_Projects/Kaggle/DS Bowl 2017/input_data/stage1_zarr/DSBowl.zarr')\n",
    "zarr_group = zarr.hierarchy.open_group(store=zarr_store, mode='a')\n",
    "feats_group = zarr_group.require_group('features')\n",
    "\n",
    "\n",
    "def save_zarr(id_patient, features):\n",
    "    feats_group.array(id_patient, features, \n",
    "            chunks=(64*32*32), compressor=zarr.Blosc(clevel=9, cname=\"zstd\", shuffle=2), \n",
    "            synchronizer=zarr.ThreadSynchronizer())\n",
    "    \n",
    "def load_zarr(patient_id):\n",
    "    lung_cand_zarr = zarr_load_group['lung_mask'][patient_id]\n",
    "    return np.array(lung_cand_zarr).astype('float32')\n",
    "\n",
    "def load_data(start, end):\n",
    "    print('Loading 2D full-size candidates.')\n",
    "    df = pd.read_csv('/home/w/DS_Projects/Kaggle/DS Bowl 2017/input_data/stage1_labels.csv')[start:end]\n",
    "    df = df[df['id'].isin(dsb_pats)]\n",
    "    t = time.time()\n",
    "    masks = np.zeros((0, 1, 512, 512))\n",
    "    labels = np.zeros(0)\n",
    "    for i in range(len(df)):\n",
    "        mask = load_zarr('{}'.format(df.iloc[i, 0]))\n",
    "        mask[mask <= 1.0] = 0.\n",
    "        z_nonzero = np.unique(np.nonzero(mask)[0])\n",
    "        mask = mask[z_nonzero[0]:z_nonzero[-1], :, :]\n",
    "        mask = mask/255.\n",
    "        masks = np.concatenate((masks, mask), 0)\n",
    "        if df.iloc[i, 1] == 1:\n",
    "            label = np.ones(mask.shape[0])\n",
    "        if df.iloc[i, 1] == 0:\n",
    "            label = np.zeros(mask.shape[0])\n",
    "        labels = np.concatenate((labels, label), 0)\n",
    "    print('Data shape:', masks.shape)\n",
    "    print('Time it took to load the data:', time.time() - t)\n",
    "    return masks, df, labels\n"
   ]
  },
  {
   "cell_type": "code",
   "execution_count": null,
   "metadata": {
    "collapsed": true
   },
   "outputs": [],
   "source": [
    "def save_features(start, end):\n",
    "    print('Loading 2D full-size candidates.')\n",
    "    df = pd.read_csv('/home/w/DS_Projects/Kaggle/DS Bowl 2017/input_data/stage1_labels_full.csv')[start:end]\n",
    "    df = df[df['id'].isin(dsb_pats)]\n",
    "    t = time.time()\n",
    "    features = np.zeros((len(df), 64, 32, 32))\n",
    "    for i in range(len(df)):\n",
    "        print('Predicting features for patient - index: {}, ID: {}'.format(i, df.iloc[i, 0]))\n",
    "        mask = load_zarr('{}'.format(df.iloc[i, 0]))\n",
    "        mask[mask <= 1.0] = 0.\n",
    "        z_nonzero = np.unique(np.nonzero(mask)[0])\n",
    "        mask = mask[z_nonzero[0]:z_nonzero[-1], :, :]\n",
    "        print('Nonzero mask shape:', mask.shape[0])\n",
    "        mask = mask/255.\n",
    "        preds = m2.predict(mask)\n",
    "        preds_mean = np.mean(preds, axis = 0)\n",
    "        preds_mean = preds_mean.reshape(-1)\n",
    "        save_zarr(df.iloc[i, 0], preds_mean)\n",
    "    print('Time it took to load the data & predict:', time.time() - t)\n",
    "    return \n",
    "\n",
    "\n",
    "def get_features(start, end):\n",
    "    print('Loading 2D full-size candidates.')\n",
    "    df = pd.read_csv('/home/w/DS_Projects/Kaggle/DS Bowl 2017/input_data/stage1_labels_full.csv')[start:end]\n",
    "    df = df[df['id'].isin(dsb_pats)]\n",
    "    t = time.time()\n",
    "    features = np.zeros((len(df), 64, 32, 32))\n",
    "    for i in range(len(df)):\n",
    "        print('Predicting features for patient - index: {}, ID: {}'.format(i, df.iloc[i, 0]))\n",
    "        mask = load_zarr('{}'.format(df.iloc[i, 0]))\n",
    "        mask[mask <= 1.0] = 0.\n",
    "        z_nonzero = np.unique(np.nonzero(mask)[0])\n",
    "        mask = mask[z_nonzero[0]:z_nonzero[-1], :, :]\n",
    "        print('Nonzero mask shape:', mask.shape[0])\n",
    "        mask = mask/255.\n",
    "        preds = m.predict(mask)\n",
    "        preds_mean = np.mean(preds, axis = 0)\n",
    "        features[i, :] = preds_mean\n",
    "    features = features.reshape(features.shape[0], -1)\n",
    "    print('Time it took to load the data & predict:', time.time() - t)\n",
    "    return features, df"
   ]
  },
  {
   "cell_type": "code",
   "execution_count": null,
   "metadata": {
    "collapsed": true
   },
   "outputs": [],
   "source": [
    "zarr_dir2 = '/home/w/DS_Projects/Kaggle/DS Bowl 2017/input_data/stage2_zarr/DSBowl.zarr/'\n",
    "zarr_store2 = zarr.DirectoryStore(zarr_dir2)\n",
    "zarr_load_group2 = zarr.hierarchy.open_group(store=zarr_store2, mode='r')\n",
    "dsb_pats_stg2 = [x for x in os.listdir('/home/w/DS_Projects/Kaggle/DS Bowl 2017/input_data/stage2_zarr/DSBowl.zarr/lung_mask/')\n",
    "                 if '.' not in x]\n",
    "\n",
    "def load_zarr2(patient_id):\n",
    "    lung_cand_zarr = zarr_load_group2['lung_mask'][patient_id]\n",
    "    return np.array(lung_cand_zarr).astype('float32')\n",
    "\n",
    "def get_features_test(dsb_pats):\n",
    "    print('Loading 2D full-size candidates.')\n",
    "    t = time.time()\n",
    "    features = np.zeros((len(dsb_pats), 64, 32, 32))\n",
    "    for i in range(len(dsb_pats)):\n",
    "        print('Predicting features for patient - index: {}, ID: {}'.format(i, dsb_pats[i]))\n",
    "        mask = load_zarr2(dsb_pats[i])\n",
    "        mask[mask <= 1.0] = 0.\n",
    "        z_nonzero = np.unique(np.nonzero(mask)[0])\n",
    "        mask = mask[z_nonzero[0]:z_nonzero[-1], :, :]\n",
    "        print('Nonzero mask shape:', mask.shape[0])\n",
    "        mask = mask/255.\n",
    "        preds = m.predict(mask)\n",
    "        preds_mean = np.mean(preds, axis = 0)\n",
    "        features[i, :] = preds_mean\n",
    "    features = features.reshape(features.shape[0], -1)\n",
    "    print('Time it took to load the data & predict:', time.time() - t)\n",
    "    return features"
   ]
  },
  {
   "cell_type": "code",
   "execution_count": null,
   "metadata": {
    "collapsed": true
   },
   "outputs": [],
   "source": [
    "src_checks = '/home/w/DS_Projects/Kaggle/DS Bowl 2017/Scripts/LUNA/CNN/Checkpoints/'\n",
    "cnn = load_model(src_checks + '1stgentry_CNN2DClassifier.h5')\n",
    "m = Model(input = cnn.input, output = cnn.layers[-12].output) # last MaxPool\n",
    "m2 = Model(input = cnn.input, output = cnn.layers[-5].output) # last Dense(128)"
   ]
  },
  {
   "cell_type": "code",
   "execution_count": null,
   "metadata": {
    "collapsed": true,
    "scrolled": true
   },
   "outputs": [],
   "source": [
    "X_train, y_train = get_features(0, 1500)\n",
    "y_train = y_train['cancer'].values\n",
    "\n",
    "X_test, y_test = get_features(1500, 1595)\n",
    "y_test = y_test['cancer'].values\n",
    "\n",
    "stg2_features_masks = get_features_test(dsb_pats_stg2)"
   ]
  },
  {
   "cell_type": "code",
   "execution_count": null,
   "metadata": {
    "collapsed": true
   },
   "outputs": [],
   "source": [
    "def xgb_train(X_train, X_test, y_train, y_test):\n",
    "    \n",
    "    clf = xgb.XGBRegressor(max_depth=10,\n",
    "                           n_estimators=10000,\n",
    "                           min_child_weight=15,\n",
    "                           learning_rate=0.03,\n",
    "                           nthread=8,\n",
    "                           subsample=0.80,\n",
    "                           colsample_bytree=0.75,\n",
    "                           seed=1337)\n",
    "\n",
    "    clf.fit(X_train, y_train, eval_set=[(X_test, y_test)], verbose=50, eval_metric='logloss', early_stopping_rounds=50)\n",
    "    return clf\n",
    "\n",
    "\n",
    "def make_submit(clf):\n",
    "    df = pd.read_csv('/home/w/DS_Projects/Kaggle/DS Bowl 2017/input_data/stage2_sample_submission.csv')\n",
    "    X_test2 = get_features_test(dsb_pats_stg2)\n",
    "    pred = clf.predict(X_test2)\n",
    "    df['cancer'] = pred\n",
    "    df.to_csv('stage2_sub_2DUNet_preds_masks.csv', index=False)\n",
    "    print(df.head())\n",
    "    return"
   ]
  },
  {
   "cell_type": "code",
   "execution_count": null,
   "metadata": {
    "collapsed": true
   },
   "outputs": [],
   "source": [
    "clf = xgb_train(X_train, X_test, y_train, y_test)"
   ]
  },
  {
   "cell_type": "code",
   "execution_count": null,
   "metadata": {
    "collapsed": true,
    "scrolled": true
   },
   "outputs": [],
   "source": [
    "make_submit(clf)"
   ]
  },
  {
   "cell_type": "code",
   "execution_count": null,
   "metadata": {
    "collapsed": true
   },
   "outputs": [],
   "source": [
    "np.save('2D_train0-1500_features_masks', X_train)\n",
    "np.save('2D_train0-1500_labels_masks', y_train)\n",
    "\n",
    "np.save('2D_valid1500-1595_features_masks', X_test)\n",
    "np.save('2D_valid1500-1595_labels_masks', y_test)"
   ]
  }
 ],
 "metadata": {
  "kernelspec": {
   "display_name": "Python 3",
   "language": "python",
   "name": "python3"
  },
  "language_info": {
   "codemirror_mode": {
    "name": "ipython",
    "version": 3
   },
   "file_extension": ".py",
   "mimetype": "text/x-python",
   "name": "python",
   "nbconvert_exporter": "python",
   "pygments_lexer": "ipython3",
   "version": "3.5.2"
  }
 },
 "nbformat": 4,
 "nbformat_minor": 2
}
