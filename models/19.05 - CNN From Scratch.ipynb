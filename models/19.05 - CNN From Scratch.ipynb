{
 "cells": [
  {
   "cell_type": "code",
   "execution_count": null,
   "metadata": {},
   "outputs": [
    {
     "name": "stderr",
     "output_type": "stream",
     "text": [
      "Using TensorFlow backend.\n"
     ]
    }
   ],
   "source": [
    "import os\n",
    "os.environ[\"CUDA_DEVICE_ORDER\"]=\"PCI_BUS_ID\"\n",
    "os.environ[\"CUDA_VISIBLE_DEVICES\"]=\"1\"\n",
    "\n",
    "import numpy as np\n",
    "np.random.seed(1337)\n",
    "\n",
    "import gc\n",
    "import glob\n",
    "import cv2\n",
    "import datetime\n",
    "import pandas as pd\n",
    "import time\n",
    "import scipy\n",
    "import warnings\n",
    "warnings.filterwarnings(\"ignore\")\n",
    "from scipy import misc\n",
    "import matplotlib.pyplot as plt\n",
    "%matplotlib inline\n",
    "\n",
    "from keras.utils.np_utils import to_categorical\n",
    "from keras.callbacks import ModelCheckpoint, EarlyStopping, ReduceLROnPlateau\n",
    "from keras.preprocessing.image import ImageDataGenerator\n",
    "from keras.models import load_model\n",
    "from keras.models import Sequential\n",
    "from sklearn.model_selection import train_test_split\n",
    "\n",
    "from models import *\n",
    "from data_utils import *\n",
    "from fit_utils import *\n",
    "from inmem_utils import *\n",
    "from clr_callback import *"
   ]
  },
  {
   "cell_type": "code",
   "execution_count": null,
   "metadata": {
    "collapsed": true,
    "scrolled": true
   },
   "outputs": [],
   "source": [
    "def fit_model(X, X_tr, X_val, y_tr, y_val, modelname = None, checkname = None, load_name = None):\n",
    "    callbacks = [ModelCheckpoint('/media/w/1c392724-ecf3-4615-8f3c-79368ec36380/DS Projects/Kaggle/Intel_Cervix/scripts/models/checks/{}.h5'.format(checkname), \n",
    "                                        monitor='val_loss', \n",
    "                                        verbose = 0, save_best_only = True),\n",
    "                EarlyStopping(monitor='val_loss', patience = 12, verbose = 1),\n",
    "                ReduceLROnPlateau(monitor='val_loss', factor = 0.4, verbose = 1, \n",
    "                                  patience = 4, min_lr = 5e-6)]\n",
    "    \n",
    "    train_datagen = ImageDataGenerator(\n",
    "                rescale=1./255,\n",
    "                shear_range=0.2,\n",
    "                zoom_range=0.3,\n",
    "                rotation_range=180,\n",
    "                width_shift_range=0.2,\n",
    "                height_shift_range=0.2,\n",
    "                horizontal_flip=True,\n",
    "                vertical_flip=True)\n",
    "    train_datagen.fit(X, augment = True)\n",
    "    valid_datagen = ImageDataGenerator(rescale=1./255,)\n",
    "    \n",
    "    if 'res' or 'inception' in checkname:\n",
    "        batch_size = 8\n",
    "    if 'xception' in checkname:\n",
    "        batch_size = 4\n",
    "        \n",
    "    if load_name is not None:\n",
    "        model = load_model(checks_src + load_name)\n",
    "    else:\n",
    "        model = modelname()\n",
    "        \n",
    "    model.fit_generator(train_datagen.flow(X_tr, y_tr, batch_size = batch_size), \n",
    "                        steps_per_epoch = X_tr.shape[0]/batch_size,\n",
    "                        validation_data = valid_datagen.flow(X_val, y_val, batch_size = batch_size, shuffle = False),\n",
    "                        validation_steps = X_val.shape[0]/batch_size, epochs = 200, callbacks = callbacks)\n",
    "    \n",
    "    return model\n"
   ]
  },
  {
   "cell_type": "code",
   "execution_count": null,
   "metadata": {
    "collapsed": true
   },
   "outputs": [],
   "source": [
    "src = '/media/w/1c392724-ecf3-4615-8f3c-79368ec36380/DS Projects/Kaggle/Intel_Cervix/data/training_data/'\n",
    "checks_src = '/media/w/1c392724-ecf3-4615-8f3c-79368ec36380/DS Projects/Kaggle/Intel_Cervix/scripts/models/checks/'\n",
    "sub_src = '/media/w/1c392724-ecf3-4615-8f3c-79368ec36380/DS Projects/Kaggle/Intel_Cervix/submissions/Raw/'\n",
    "sub_dst = '/media/w/1c392724-ecf3-4615-8f3c-79368ec36380/DS Projects/Kaggle/Intel_Cervix/submissions/'\n"
   ]
  },
  {
   "cell_type": "code",
   "execution_count": null,
   "metadata": {
    "scrolled": false
   },
   "outputs": [],
   "source": [
    "X, _, _ = load_train(src + 'train_crops_frcnn_299/')\n",
    "\n",
    "X_tr, y_tr, train_ids = load_train(src + 'train_set/')\n",
    "y_tr = to_categorical(y_tr)\n",
    "\n",
    "X_val, y_val, train_ids = load_train(src + 'valid_set/')\n",
    "y_val = to_categorical(y_val)\n",
    "\n",
    "#X_test, test_ids = load_test(src + 'test_crops_150epochs/test_crops_150epochs/')"
   ]
  },
  {
   "cell_type": "code",
   "execution_count": null,
   "metadata": {},
   "outputs": [],
   "source": [
    "from keras.layers.convolutional import Conv2D, MaxPooling2D\n",
    "from keras.layers import Flatten, Dense, Dropout, Activation\n",
    "from keras.layers import Input\n",
    "from keras.models import Model\n",
    "\n",
    "def sequential_cnn(num_classes, img_size):\n",
    "    \n",
    "    model = Sequential()\n",
    "    x = Conv2D(32, (3, 3), padding='same',\n",
    "                     input_shape=img_size)(x)\n",
    "    x = Activation('relu')(x)\n",
    "    x = Conv2D(32, (3, 3)(x))\n",
    "    x = Activation('relu')(x)\n",
    "    x = MaxPooling2D(pool_size=(2, 2)(x))\n",
    "    x = Dropout(0.25)(x)\n",
    "\n",
    "    x = Conv2D(64, (3, 3), padding='same')(x)\n",
    "    x = Activation('relu')(x)\n",
    "    x = Conv2D(64, (3, 3)(x))\n",
    "    x = Activation('relu')(x)\n",
    "    x = MaxPooling2D(pool_size=(2, 2)(x))\n",
    "    x = Dropout(0.25)(x)\n",
    "\n",
    "    x = Flatten()(x)\n",
    "    x = Dense(512)(x)\n",
    "    x = Activation('relu')(x)\n",
    "    x = Dropout(0.5)(x)\n",
    "    x = Dense(num_classes)(x)\n",
    "    output_layer = Activation('softmax')(x)\n",
    "    \n",
    "    model = Model(input = input_layer, output = output_layer)\n",
    "    model.compile(loss='categorical_crossentropy',\n",
    "                  optimizer='adam', metrics=['accuracy'])\n",
    "    return model\n",
    "\n",
    "def functional_cnn(num_classes, img_size):\n",
    "    \n",
    "    input_layer = Input(img_size)\n",
    "    x = Conv2D(32, (3, 3), padding='same')(input_layer)\n",
    "    x = Activation('relu')(x)\n",
    "    x = Conv2D(32, (3, 3))(x)\n",
    "    x = Activation('relu')(x)\n",
    "    x = MaxPooling2D(pool_size=(2, 2))(x)\n",
    "    x = Dropout(0.25)(x)\n",
    "\n",
    "    x = Conv2D(64, (3, 3), padding='same')(x)\n",
    "    x = Activation('relu')(x)\n",
    "    x = Conv2D(64, (3, 3))(x)\n",
    "    x = Activation('relu')(x)\n",
    "    x = MaxPooling2D(pool_size=(2, 2))(x)\n",
    "    x = Dropout(0.25)(x)\n",
    "\n",
    "    x = Flatten()(x)\n",
    "    x = Dense(512)(x)\n",
    "    x = Activation('relu')(x)\n",
    "    x = Dropout(0.5)(x)\n",
    "    x = Dense(num_classes)(x)\n",
    "    x = Activation('softmax')(x)\n",
    "    \n",
    "    model = Model(input = input_layer, output = x)\n",
    "    model.compile(loss='categorical_crossentropy',\n",
    "                  optimizer='adam', metrics=['accuracy'])\n",
    "    return model"
   ]
  },
  {
   "cell_type": "code",
   "execution_count": null,
   "metadata": {},
   "outputs": [],
   "source": [
    "img_size = (299, 299, 3)\n",
    "num_classes = 3\n",
    "\n",
    "model = functional_cnn(num_classes, img_size)\n",
    "model.fit(X_tr, y_tr, validation_data = (X_val, y_val), batch_size = 8, epochs = 10)"
   ]
  },
  {
   "cell_type": "code",
   "execution_count": null,
   "metadata": {
    "scrolled": true
   },
   "outputs": [],
   "source": [
    "\n",
    "model = fit_model(X, X_tr, X_val, y_tr, y_val, sequential_cnn, 'sequential_cnn')"
   ]
  },
  {
   "cell_type": "code",
   "execution_count": null,
   "metadata": {
    "scrolled": true
   },
   "outputs": [],
   "source": [
    "model = fit_model(X, X_tr, X_val, y_tr, y_val, xception, 'xception_patientsplit_0.2_frcnn170e_crops')"
   ]
  },
  {
   "cell_type": "code",
   "execution_count": null,
   "metadata": {},
   "outputs": [],
   "source": [
    "model = fit_model(X, X_tr, X_val, y_tr, y_val, xception2, 'xception2_patientsplit_0.2_frcnn170e_crops')"
   ]
  },
  {
   "cell_type": "code",
   "execution_count": null,
   "metadata": {
    "collapsed": true
   },
   "outputs": [],
   "source": [
    "model = fit_model(X, X_tr, X_val, y_tr, y_val, inception1, 'inception1_patientsplit_0.3_origdata')"
   ]
  },
  {
   "cell_type": "code",
   "execution_count": null,
   "metadata": {
    "collapsed": true
   },
   "outputs": [],
   "source": [
    "model = fit_model(X, X_tr, X_val, y_tr, y_val, inception3, 'inception3_patientsplit_0.3_origdata')"
   ]
  },
  {
   "cell_type": "code",
   "execution_count": null,
   "metadata": {
    "collapsed": true
   },
   "outputs": [],
   "source": [
    "X_test, test_ids = load_test(src + 'test_crops_150epochs/test_crops_150epochs/')\n",
    "model = load_model(checks_src + 'resnet1adam_patientsplit_0.2_frcnn170e_crops.h5')\n",
    "bag_preds = predict_data(model, X_test, 1, 15)\n",
    "submission_inmem(bag_preds, test_ids, 'xception_patientsplit_origdata')\n",
    "prep_sub('xception_patientsplit_origdata')"
   ]
  },
  {
   "cell_type": "code",
   "execution_count": null,
   "metadata": {
    "collapsed": true
   },
   "outputs": [],
   "source": []
  }
 ],
 "metadata": {
  "kernelspec": {
   "display_name": "Python 3",
   "language": "python",
   "name": "python3"
  },
  "language_info": {
   "codemirror_mode": {
    "name": "ipython",
    "version": 3
   },
   "file_extension": ".py",
   "mimetype": "text/x-python",
   "name": "python",
   "nbconvert_exporter": "python",
   "pygments_lexer": "ipython3",
   "version": "3.5.2"
  }
 },
 "nbformat": 4,
 "nbformat_minor": 2
}
