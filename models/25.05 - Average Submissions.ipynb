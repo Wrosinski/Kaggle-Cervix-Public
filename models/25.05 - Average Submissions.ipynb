{
 "cells": [
  {
   "cell_type": "code",
   "execution_count": null,
   "metadata": {
    "collapsed": true
   },
   "outputs": [],
   "source": [
    "import pandas as pd\n",
    "import numpy as np\n",
    "from sklearn.preprocessing import normalize\n",
    "\n",
    "def average_two_subs(sub1, sub2):\n",
    "    averaged = sub1.copy()\n",
    "    averaged.iloc[:, :3] = (sub1.iloc[:, :3] + sub2.iloc[:, :3]) / 2\n",
    "    return averaged\n",
    "\n",
    "def average_more_subs(subs):\n",
    "    averaged = subs[0]\n",
    "    for i in range(len(subs)):\n",
    "        averaged.iloc[:, :3] += subs[i].iloc[:, :3]\n",
    "    averaged.iloc[:, :3] = averaged.iloc[:, :3].apply(lambda x: (x - np.min(x)) / (np.max(x) - np.min(x)),\n",
    "                                                      axis = 0)\n",
    "    return averaged\n",
    "\n",
    "\n",
    "sub_src = '/media/w/1c392724-ecf3-4615-8f3c-79368ec36380/DS Projects/Kaggle/Intel_Cervix/submissions/' \n",
    "\n",
    "name1 = 'resnet_globavgpool_bagged_train_crops_frcnn_299_oversampled_run1_grouped_15augs'\n",
    "name2 = 'inception_globalavgpool_bagged_train_crops_frcnn_299_oversampled_run1_grouped_15augs'\n",
    "name3 = 'xception_globalavgpool_bagged_train_crops_frcnn_299_oversampled_run1_grouped_15augs'\n",
    "\n",
    "s1 = pd.read_csv(sub_src + name1 + '.csv')\n",
    "s2 = pd.read_csv(sub_src + name2 + '.csv')\n",
    "s3 = pd.read_csv(sub_src + name3 + '.csv')\n",
    "\n",
    "#avg_two = average_two_subs(s1, s2)\n",
    "#avg_two.to_csv(sub_src + name1 + '_' + name2 + '.csv', index = False)\n",
    "avg = average_more_subs([s1, s2, s3])\n",
    "#avg.to_csv(sub_src + '{}_{}_{}.csv'.format(name1, name2, name3), index = False)"
   ]
  }
 ],
 "metadata": {
  "kernelspec": {
   "display_name": "Python 3",
   "language": "python",
   "name": "python3"
  },
  "language_info": {
   "codemirror_mode": {
    "name": "ipython",
    "version": 3
   },
   "file_extension": ".py",
   "mimetype": "text/x-python",
   "name": "python",
   "nbconvert_exporter": "python",
   "pygments_lexer": "ipython3",
   "version": "3.5.2"
  }
 },
 "nbformat": 4,
 "nbformat_minor": 2
}
