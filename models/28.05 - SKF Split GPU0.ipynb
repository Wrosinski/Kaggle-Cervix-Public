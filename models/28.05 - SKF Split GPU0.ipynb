{
 "cells": [
  {
   "cell_type": "code",
   "execution_count": 1,
   "metadata": {},
   "outputs": [
    {
     "name": "stderr",
     "output_type": "stream",
     "text": [
      "Using TensorFlow backend.\n"
     ]
    }
   ],
   "source": [
    "import os\n",
    "os.environ[\"CUDA_DEVICE_ORDER\"]=\"PCI_BUS_ID\"\n",
    "os.environ[\"CUDA_VISIBLE_DEVICES\"]=\"0\"\n",
    "from keras.utils.np_utils import to_categorical\n",
    "from selected_models import *\n",
    "from models_utils_loading import *\n",
    "from models_utils_fitID import *\n",
    "from models_utils_inmem import *\n",
    "from clr_callback import *\n",
    "np.random.seed(1337)\n",
    "tf.set_random_seed(1337)"
   ]
  },
  {
   "cell_type": "code",
   "execution_count": null,
   "metadata": {
    "collapsed": true
   },
   "outputs": [],
   "source": [
    "n_folds = 10\n",
    "stratify = True\n",
    "prepare_submission = True\n",
    "\n",
    "train_src = 'train_crops_yolo_299_oversampled'\n",
    "test_src = 'test_crops_yolo_299'\n",
    "\n",
    "src = '/media/w/1c392724-ecf3-4615-8f3c-79368ec36380/DS Projects/Kaggle/Intel_Cervix/data/training_data/'\n",
    "X, y, train_ids = load_train(src + '{}/'.format(train_src))\n",
    "y = to_categorical(y)\n",
    "X_test, test_ids = load_test(src + '{}/{}/'.format(test_src, test_src))"
   ]
  },
  {
   "cell_type": "code",
   "execution_count": null,
   "metadata": {
    "collapsed": true
   },
   "outputs": [],
   "source": [
    "model_name = xception_globalavgpool\n",
    "model_savename = '{}_{}foldSKF_{}'.format(model_name.__name__, n_folds, train_src)\n",
    "\n",
    "fit_model(X, y, X_test, train_ids, n_folds, stratify, modelname = model_name, savename = model_savename)\n",
    "if prepare_submission:\n",
    "    prep_submission_fold(model_savename, n_folds, test_src = '{}'.format(test_src))"
   ]
  },
  {
   "cell_type": "code",
   "execution_count": null,
   "metadata": {
    "collapsed": true
   },
   "outputs": [],
   "source": [
    "model_name = resnet_dense\n",
    "model_savename = '{}_{}foldSKF_{}'.format(model_name.__name__, n_folds, train_src)\n",
    "\n",
    "fit_model(X, y, X_test, train_ids, n_folds, stratify, modelname = model_name, savename = model_savename)\n",
    "if prepare_submission:\n",
    "    prep_submission_fold(model_savename, n_folds, test_src = '{}'.format(test_src))"
   ]
  }
 ],
 "metadata": {
  "kernelspec": {
   "display_name": "Python 3",
   "language": "python",
   "name": "python3"
  },
  "language_info": {
   "codemirror_mode": {
    "name": "ipython",
    "version": 3
   },
   "file_extension": ".py",
   "mimetype": "text/x-python",
   "name": "python",
   "nbconvert_exporter": "python",
   "pygments_lexer": "ipython3",
   "version": "3.5.2"
  }
 },
 "nbformat": 4,
 "nbformat_minor": 2
}
